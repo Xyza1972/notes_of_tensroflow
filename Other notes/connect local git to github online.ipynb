{
 "cells": [
  {
   "cell_type": "markdown",
   "metadata": {},
   "source": [
    "# git config\n",
    "\n",
    "Follow the instruction [here](https://product.hubspot.com/blog/git-and-github-tutorial-for-beginners)\n",
    "\n",
    "Create (or go to) the folder that used as master\n",
    "```\n",
    "git init \n",
    "git add *\n",
    "git commit -m \"The first commit\"\n",
    "```\n",
    "\n",
    "# connect to github\n",
    "\n",
    "```\n",
    "git remote add origin hettp://\n",
    "git pull --rebase origin master\n",
    "git push origin master\n",
    "\n",
    "```"
   ]
  }
 ],
 "metadata": {
  "kernelspec": {
   "display_name": "Python 3",
   "language": "python",
   "name": "python3"
  },
  "language_info": {
   "codemirror_mode": {
    "name": "ipython",
    "version": 3
   },
   "file_extension": ".py",
   "mimetype": "text/x-python",
   "name": "python",
   "nbconvert_exporter": "python",
   "pygments_lexer": "ipython3",
   "version": "3.6.2"
  }
 },
 "nbformat": 4,
 "nbformat_minor": 2
}
